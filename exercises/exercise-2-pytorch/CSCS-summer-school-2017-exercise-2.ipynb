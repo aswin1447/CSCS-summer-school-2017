{
 "cells": [
  {
   "cell_type": "markdown",
   "metadata": {},
   "source": [
    "# Exercise 2: Deep learning\n",
    "\n",
    "CSCS-ICS-DADSi Summer School: Accelerating Data Science with HPC\n",
    "September 4 - 6, 2017\n",
    "Swiss National Supercomputing Centre\n",
    "\n",
    "Mainly inspired from:\n",
    "\n",
    "http://pytorch.org/tutorials/beginner/deep_learning_60min_blitz.html"
   ]
  },
  {
   "cell_type": "markdown",
   "metadata": {},
   "source": [
    "We will use the PyTorch deep learning framework (http://pytorch.org/) in this exercise.\n",
    "\n",
    "PyTorch is a Python-based reincarnation of the lua-based Torch framework (http://torch.ch/), with features such as dynamic graphs and general-purpose automatic differentiation.\n",
    "\n",
    "Please visit the PyTorch website for more information and tutorials."
   ]
  },
  {
   "cell_type": "markdown",
   "metadata": {},
   "source": [
    "## Part 1: Tensors"
   ]
  },
  {
   "cell_type": "markdown",
   "metadata": {},
   "source": [
    "We start by importing `torch`."
   ]
  },
  {
   "cell_type": "code",
   "execution_count": 1,
   "metadata": {
    "collapsed": true
   },
   "outputs": [],
   "source": [
    "import torch\n",
    "from torch import Tensor"
   ]
  },
  {
   "cell_type": "markdown",
   "metadata": {},
   "source": [
    "Tensors, or multi-dimensional arrays, are the basic unit in PyTorch. Let's create a 5x3 matrix as a 2-dimensional Tensor. This will default to a `FloatTensor`, a tensor of single-precision (32-bits) floating point numbers. The tensor will be initialized with random numbers."
   ]
  },
  {
   "cell_type": "code",
   "execution_count": 2,
   "metadata": {},
   "outputs": [
    {
     "name": "stdout",
     "output_type": "stream",
     "text": [
      "\n",
      "-9.3784e-11  4.5623e-41 -9.3784e-11\n",
      " 4.5623e-41 -4.2671e-10  4.5623e-41\n",
      "-4.2672e-10  4.5623e-41 -1.0407e-13\n",
      " 4.5623e-41  8.8364e+16  4.5623e-41\n",
      " 1.7937e-43  0.0000e+00  1.1351e-43\n",
      "[torch.FloatTensor of size 5x3]\n",
      "\n"
     ]
    }
   ],
   "source": [
    "x = Tensor(5,3)\n",
    "print(x)"
   ]
  },
  {
   "cell_type": "markdown",
   "metadata": {},
   "source": [
    "### Slicing\n",
    "\n",
    "It is common to have higher-dimensional tensors, to hold all aspects of your data together, such as a 3x200x200 tensor holding the R,G,B channels of an image of 200x200 pixels, or a 100x3x200x200 tensor to hold a batch of 100 such images.\n",
    "\n",
    "We use slicing operations to view specific subtensors of such a tensor. Note that PyTorch uses zero-based indexing and row-major memory ordering."
   ]
  },
  {
   "cell_type": "code",
   "execution_count": 3,
   "metadata": {},
   "outputs": [
    {
     "name": "stdout",
     "output_type": "stream",
     "text": [
      "torch.Size([100, 3, 200, 200])\n",
      "torch.Size([200, 200])\n"
     ]
    }
   ],
   "source": [
    "# 100 images of 3 channels of size 200x200\n",
    "x = Tensor(100,3,200,200)\n",
    "print(x.size())\n",
    "\n",
    "# Second channel of the first image\n",
    "y = x[0,1]\n",
    "print(y.size())"
   ]
  },
  {
   "cell_type": "markdown",
   "metadata": {},
   "source": [
    "### Numpy conversion\n",
    "\n",
    "You might have noticed that Tensors are very similar to Numpy's ndarrays. In fact you can easily convert between ndarrays and Tensors."
   ]
  },
  {
   "cell_type": "code",
   "execution_count": 4,
   "metadata": {},
   "outputs": [
    {
     "name": "stdout",
     "output_type": "stream",
     "text": [
      "(100, 3, 200, 200)\n",
      "torch.Size([100, 3, 200, 200])\n"
     ]
    }
   ],
   "source": [
    "x_np = x.numpy()\n",
    "print(x_np.shape)\n",
    "\n",
    "x = torch.from_numpy(x_np)\n",
    "print(x.size())"
   ]
  },
  {
   "cell_type": "markdown",
   "metadata": {},
   "source": [
    "### A note on GPU usage\n",
    "\n",
    "PyTorch is frequently used with a CUDA backend on a GPU. One would convert between tensors and CUDA tensors by simply calling\n",
    "\n",
    "`x.cuda()`\n",
    "\n",
    "`x.cpu()`\n",
    "\n",
    "which transfer data to and from a GPU memory."
   ]
  },
  {
   "cell_type": "markdown",
   "metadata": {
    "collapsed": true
   },
   "source": [
    "## Part 2: Automatic differentiation"
   ]
  },
  {
   "cell_type": "markdown",
   "metadata": {},
   "source": [
    "PyTorch implements reverse-mode automatic differentiation (AD). For using AD features, we need the `Variable` class from  `autograd`."
   ]
  },
  {
   "cell_type": "code",
   "execution_count": 5,
   "metadata": {
    "collapsed": true
   },
   "outputs": [],
   "source": [
    "from torch.autograd import Variable"
   ]
  },
  {
   "cell_type": "markdown",
   "metadata": {},
   "source": [
    "For automatically evaluating derivatives with AD, we need to wrap tensors within `Variable` instances."
   ]
  },
  {
   "cell_type": "code",
   "execution_count": 6,
   "metadata": {},
   "outputs": [
    {
     "name": "stdout",
     "output_type": "stream",
     "text": [
      "Variable containing:\n",
      "-9.3784e-11\n",
      " 4.5623e-41\n",
      " 6.0137e-37\n",
      "[torch.FloatTensor of size 3]\n",
      "\n"
     ]
    }
   ],
   "source": [
    "x = Tensor(3) # A vector of length three\n",
    "x = Variable(x) \n",
    "print(x)"
   ]
  },
  {
   "cell_type": "markdown",
   "metadata": {},
   "source": [
    "With `Variable`s, obtaining a gradient of a scalar-valued function is straightforward. Let's use the regular Python language features to define a function."
   ]
  },
  {
   "cell_type": "code",
   "execution_count": 7,
   "metadata": {
    "collapsed": true
   },
   "outputs": [],
   "source": [
    "def f(x):\n",
    "    y = torch.log(x[0]) + torch.sin(x[1])\n",
    "    return x[2] * torch.exp(y)"
   ]
  },
  {
   "cell_type": "markdown",
   "metadata": {},
   "source": [
    "Let's evaluate the gradient of `f(x)` at `x = [2,3,4]`."
   ]
  },
  {
   "cell_type": "code",
   "execution_count": 8,
   "metadata": {},
   "outputs": [
    {
     "name": "stdout",
     "output_type": "stream",
     "text": [
      "Variable containing:\n",
      " 9.2125\n",
      "[torch.FloatTensor of size 1]\n",
      "\n",
      "Variable containing:\n",
      " 4.6063\n",
      "-9.1203\n",
      " 2.3031\n",
      "[torch.FloatTensor of size 3]\n",
      "\n"
     ]
    }
   ],
   "source": [
    "x = Variable(Tensor([2,3,4]), requires_grad=True)\n",
    "y = f(x)\n",
    "print(y)\n",
    "\n",
    "y.backward()\n",
    "print(x.grad)"
   ]
  },
  {
   "cell_type": "markdown",
   "metadata": {},
   "source": [
    "Note that we get the function evaluated `f(2,3,4)` as `9.2125` and the gradient `f'(2,3,4)` as `[4.6063, -9.1203, 2.3031]`.\n",
    "\n",
    "Also note the use of `requires_grad = True` for tagging the `Variable` `x` for being differentiated with respect to. This is for efficiency reasons, allowing PyTorch to ignore the bookkeeping for `Variable`s whose derivatives we don't need."
   ]
  },
  {
   "cell_type": "markdown",
   "metadata": {},
   "source": [
    "## Part 3: Neural networks"
   ]
  },
  {
   "cell_type": "markdown",
   "metadata": {},
   "source": [
    "The previous two parts, namely defining and using `Tensor`s and `Variable`s and being able to obtain derivatives, give us everything needed for constructing and training a neural network."
   ]
  },
  {
   "cell_type": "markdown",
   "metadata": {},
   "source": [
    "### Defining a neural network"
   ]
  },
  {
   "cell_type": "markdown",
   "metadata": {},
   "source": [
    "A very important point to note is that **neural networks are just functions, and there is nothing special about them.**\n",
    "\n",
    "A neural network is a series of linear algebra operations interleaved with non-linear transformations. Let's create a single feed-forward layer with two neurons connected to four inputs (note that this omits the bias term for simplicity)."
   ]
  },
  {
   "cell_type": "code",
   "execution_count": 9,
   "metadata": {},
   "outputs": [
    {
     "name": "stdout",
     "output_type": "stream",
     "text": [
      "Variable containing:\n",
      " 1.0000\n",
      " 1.0000\n",
      "[torch.FloatTensor of size 2x1]\n",
      "\n"
     ]
    }
   ],
   "source": [
    "def run_layer(weights, inputs):\n",
    "    outputs = torch.mm(weights , inputs)\n",
    "    outputs = torch.tanh(outputs)\n",
    "    return outputs\n",
    "\n",
    "W = Variable(torch.randn(2,4), requires_grad=True) # A 2x4 weight matrix\n",
    "x = Variable(Tensor([[1],[2],[3],[4]])) # A column vector of length four\n",
    "\n",
    "y = run_layer(W, x)\n",
    "print(y)"
   ]
  },
  {
   "cell_type": "markdown",
   "metadata": {},
   "source": [
    "### The loss function\n",
    "\n",
    "Training this neural network layer would simply mean taking the derivative of a loss function at its output with respect to its trainable weights (the matrix `W` above)."
   ]
  },
  {
   "cell_type": "code",
   "execution_count": 10,
   "metadata": {},
   "outputs": [
    {
     "name": "stdout",
     "output_type": "stream",
     "text": [
      "Variable containing:\n",
      " 3.4641\n",
      "[torch.FloatTensor of size 1]\n",
      "\n",
      "Variable containing:\n",
      "1.00000e-08 *\n",
      " -0.3592 -0.7184 -1.0775 -1.4367\n",
      " -0.0000 -0.0000 -0.0000 -0.0000\n",
      "[torch.FloatTensor of size 2x4]\n",
      "\n"
     ]
    }
   ],
   "source": [
    "def loss(outputs, targets):\n",
    "    return torch.norm(outputs - targets)\n",
    "\n",
    "W = Variable(torch.randn(2,4), requires_grad=True) # A 2x4 weight matrix\n",
    "x = Variable(Tensor([[1],[2],[3],[4]])) # A column vector of length four\n",
    "\n",
    "loss = loss(run_layer(W, x), Variable(Tensor([1,1,1])))\n",
    "print(loss)\n",
    "\n",
    "loss.backward()\n",
    "W_grad = W.grad\n",
    "print(W_grad)"
   ]
  },
  {
   "cell_type": "markdown",
   "metadata": {},
   "source": [
    "### Optimization\n",
    "\n",
    "We would then iteratively update the weights in a gradient-based update rule."
   ]
  },
  {
   "cell_type": "code",
   "execution_count": 11,
   "metadata": {},
   "outputs": [
    {
     "name": "stdout",
     "output_type": "stream",
     "text": [
      "Variable containing:\n",
      " 0.7038 -0.8773 -0.1036  1.6767\n",
      "-0.6437 -0.4002 -1.8479 -1.4553\n",
      "[torch.FloatTensor of size 2x4]\n",
      "\n"
     ]
    }
   ],
   "source": [
    "learning_rate = 0.001\n",
    "W = W - learning_rate * W_grad\n",
    "print(W)"
   ]
  },
  {
   "cell_type": "code",
   "execution_count": 12,
   "metadata": {},
   "outputs": [
    {
     "data": {
      "text/plain": [
       "\n",
       " 0.7311\n",
       "[torch.FloatTensor of size 1]"
      ]
     },
     "execution_count": 12,
     "metadata": {},
     "output_type": "execute_result"
    }
   ],
   "source": [
    "torch.sigmoid(Tensor([1]))"
   ]
  },
  {
   "cell_type": "markdown",
   "metadata": {},
   "source": [
    "By taking the gradient of a neural network with respect to its trainable parameters (weights), we can optimize it with gradient descent."
   ]
  },
  {
   "cell_type": "markdown",
   "metadata": {},
   "source": [
    "## Using torch.nn modules"
   ]
  },
  {
   "cell_type": "markdown",
   "metadata": {},
   "source": [
    "In practice, unless you are implementing new neural network architectures, you would use the existing neural network building blocks provided by the `torch.nn` module, which internally work similar to the basic example we covered above.\n",
    "\n",
    "We will now define a convolutional neural network for image recognition on the CIFAR10 dataset and train and test it, using the regular PyTorch workflow.\n",
    "\n",
    "The CIFAR10 training set contains 60,000 32x32 images labeled in 10 classes. First we load the CIFAR10. This will automatically download "
   ]
  },
  {
   "cell_type": "code",
   "execution_count": null,
   "metadata": {
    "collapsed": true
   },
   "outputs": [],
   "source": []
  }
 ],
 "metadata": {
  "kernelspec": {
   "display_name": "Python 3",
   "language": "python",
   "name": "python3"
  },
  "language_info": {
   "codemirror_mode": {
    "name": "ipython",
    "version": 3
   },
   "file_extension": ".py",
   "mimetype": "text/x-python",
   "name": "python",
   "nbconvert_exporter": "python",
   "pygments_lexer": "ipython3",
   "version": "3.5.2"
  }
 },
 "nbformat": 4,
 "nbformat_minor": 2
}
