{
 "cells": [
  {
   "cell_type": "markdown",
   "metadata": {},
   "source": [
    "# Exercise 2: Deep learning\n",
    "\n",
    "CSCS-ICS-DADSi Summer School: Accelerating Data Science with HPC\n",
    "September 4 - 6, 2017\n",
    "Swiss National Supercomputing Centre\n",
    "\n",
    "Mainly inspired from:\n",
    "\n",
    "http://pytorch.org/tutorials/beginner/deep_learning_60min_blitz.html"
   ]
  },
  {
   "cell_type": "markdown",
   "metadata": {},
   "source": [
    "We will use the PyTorch deep learning framework (http://pytorch.org/) in this exercise.\n",
    "\n",
    "PyTorch is a Python-based reincarnation of the lua-based Torch framework (http://torch.ch/), with features such as dynamic graphs and general-purpose automatic differentiation.\n",
    "\n",
    "Please visit the PyTorch website for more information and tutorials."
   ]
  },
  {
   "cell_type": "markdown",
   "metadata": {},
   "source": [
    "## Part 1: Tensors"
   ]
  },
  {
   "cell_type": "markdown",
   "metadata": {},
   "source": [
    "We start by importing `torch`."
   ]
  },
  {
   "cell_type": "code",
   "execution_count": 1,
   "metadata": {
    "collapsed": true
   },
   "outputs": [],
   "source": [
    "import torch\n",
    "from torch import Tensor"
   ]
  },
  {
   "cell_type": "markdown",
   "metadata": {},
   "source": [
    "Tensors, or multi-dimensional arrays, are the basic unit in PyTorch. Let's create a 5x3 matrix as a 2-dimensional Tensor. This will default to a `FloatTensor`, a tensor of single-precision (32-bits) floating point numbers. The tensor will be initialized with random numbers."
   ]
  },
  {
   "cell_type": "code",
   "execution_count": 2,
   "metadata": {},
   "outputs": [
    {
     "name": "stdout",
     "output_type": "stream",
     "text": [
      "\n",
      "1.00000e-22 *\n",
      "  3.5701  0.0000  0.0000\n",
      "  0.0000  0.0000  0.0000\n",
      "  0.0000  0.0000  0.0000\n",
      "  0.0000  0.0018  0.0000\n",
      "  0.0018  0.0000  0.0018\n",
      "[torch.FloatTensor of size 5x3]\n",
      "\n"
     ]
    }
   ],
   "source": [
    "x = Tensor(5,3)\n",
    "print(x)"
   ]
  },
  {
   "cell_type": "markdown",
   "metadata": {},
   "source": [
    "### Slicing\n",
    "\n",
    "It is common to have higher-dimensional tensors, to hold all aspects of your data together, such as a 3x200x200 tensor holding the R,G,B channels of an image of 200x200 pixels, or a 100x3x200x200 tensor to hold a batch of 100 such images.\n",
    "\n",
    "We use slicing operations to view specific subtensors of such a tensor. Note that PyTorch uses zero-based indexing and row-major memory ordering."
   ]
  },
  {
   "cell_type": "code",
   "execution_count": 3,
   "metadata": {},
   "outputs": [
    {
     "name": "stdout",
     "output_type": "stream",
     "text": [
      "torch.Size([100, 3, 200, 200])\n",
      "torch.Size([200, 200])\n"
     ]
    }
   ],
   "source": [
    "# 100 images of 3 channels of size 200x200\n",
    "x = Tensor(100,3,200,200)\n",
    "print(x.size())\n",
    "\n",
    "# Second channel of the first image\n",
    "y = x[0,1]\n",
    "print(y.size())"
   ]
  },
  {
   "cell_type": "markdown",
   "metadata": {},
   "source": [
    "### Numpy conversion\n",
    "\n",
    "You might have noticed that Tensors are very similar to Numpy's ndarrays. In fact you can easily convert between ndarrays and Tensors."
   ]
  },
  {
   "cell_type": "code",
   "execution_count": 4,
   "metadata": {},
   "outputs": [
    {
     "name": "stdout",
     "output_type": "stream",
     "text": [
      "(100, 3, 200, 200)\n",
      "torch.Size([100, 3, 200, 200])\n"
     ]
    }
   ],
   "source": [
    "x_np = x.numpy()\n",
    "print(x_np.shape)\n",
    "\n",
    "x = torch.from_numpy(x_np)\n",
    "print(x.size())"
   ]
  },
  {
   "cell_type": "markdown",
   "metadata": {},
   "source": [
    "### A note on GPU usage\n",
    "\n",
    "PyTorch is frequently used with a CUDA backend on a GPU. One would convert between tensors and CUDA tensors by simply calling\n",
    "\n",
    "`x.cuda()`\n",
    "\n",
    "`x.cpu()`\n",
    "\n",
    "which transfer data to and from a GPU memory."
   ]
  },
  {
   "cell_type": "markdown",
   "metadata": {
    "collapsed": true
   },
   "source": [
    "## Part 2: Automatic differentiation"
   ]
  },
  {
   "cell_type": "markdown",
   "metadata": {},
   "source": [
    "PyTorch implements reverse-mode automatic differentiation (AD). For using AD features, we need the `Variable` class from  `autograd`."
   ]
  },
  {
   "cell_type": "code",
   "execution_count": 5,
   "metadata": {
    "collapsed": true
   },
   "outputs": [],
   "source": [
    "from torch.autograd import Variable"
   ]
  },
  {
   "cell_type": "markdown",
   "metadata": {},
   "source": [
    "For automatically evaluating derivatives with AD, we need to wrap tensors within `Variable` instances."
   ]
  },
  {
   "cell_type": "code",
   "execution_count": 6,
   "metadata": {},
   "outputs": [
    {
     "name": "stdout",
     "output_type": "stream",
     "text": [
      "Variable containing:\n",
      " 3.5700e-22\n",
      " 4.5843e-41\n",
      " 1.0178e-36\n",
      "[torch.FloatTensor of size 3]\n",
      "\n"
     ]
    }
   ],
   "source": [
    "x = Tensor(3) # A vector of length three\n",
    "x = Variable(x) \n",
    "print(x)"
   ]
  },
  {
   "cell_type": "markdown",
   "metadata": {},
   "source": [
    "With `Variable`s, obtaining a gradient of a scalar-valued function is straightforward. Let's use the regular Python language features to define a function."
   ]
  },
  {
   "cell_type": "code",
   "execution_count": 7,
   "metadata": {
    "collapsed": true
   },
   "outputs": [],
   "source": [
    "def f(x):\n",
    "    y = torch.log(x[0]) + torch.sin(x[1])\n",
    "    return x[2] * torch.exp(y)"
   ]
  },
  {
   "cell_type": "markdown",
   "metadata": {},
   "source": [
    "Let's evaluate the gradient of `f(x)` at `x = [2,3,4]`."
   ]
  },
  {
   "cell_type": "code",
   "execution_count": 8,
   "metadata": {},
   "outputs": [
    {
     "name": "stdout",
     "output_type": "stream",
     "text": [
      "Variable containing:\n",
      " 9.2125\n",
      "[torch.FloatTensor of size 1]\n",
      "\n",
      "Variable containing:\n",
      " 4.6063\n",
      "-9.1203\n",
      " 2.3031\n",
      "[torch.FloatTensor of size 3]\n",
      "\n"
     ]
    }
   ],
   "source": [
    "x = Variable(Tensor([2,3,4]), requires_grad=True)\n",
    "y = f(x)\n",
    "print(y)\n",
    "\n",
    "y.backward()\n",
    "print(x.grad)"
   ]
  },
  {
   "cell_type": "markdown",
   "metadata": {},
   "source": [
    "Note that we get the function evaluated `f(2,3,4)` as `9.2125` and the gradient `f'(2,3,4)` as `[4.6063, -9.1203, 2.3031]`.\n",
    "\n",
    "Also note the use of `requires_grad = True` for tagging the `Variable` `x` for being differentiated with respect to. This is for efficiency reasons, allowing PyTorch to ignore the bookkeeping for `Variable`s whose derivatives we don't need."
   ]
  },
  {
   "cell_type": "markdown",
   "metadata": {},
   "source": [
    "## Part 3: Neural networks"
   ]
  },
  {
   "cell_type": "markdown",
   "metadata": {},
   "source": [
    "The previous two parts, namely defining and using `Tensor`s and `Variable`s and being able to obtain derivatives, give us everything needed for constructing and training a neural network."
   ]
  },
  {
   "cell_type": "markdown",
   "metadata": {},
   "source": [
    "### Defining a neural network"
   ]
  },
  {
   "cell_type": "markdown",
   "metadata": {},
   "source": [
    "A very important point to note is that **neural networks are just functions, and there is nothing special about them.**\n",
    "\n",
    "A neural network is a series of linear algebra operations interleaved with non-linear transformations. Let's create a single feed-forward layer with two neurons connected to four inputs (note that this omits the bias term for simplicity)."
   ]
  },
  {
   "cell_type": "code",
   "execution_count": 9,
   "metadata": {},
   "outputs": [
    {
     "name": "stdout",
     "output_type": "stream",
     "text": [
      "Variable containing:\n",
      "-1.0000\n",
      "-0.9923\n",
      "[torch.FloatTensor of size 2x1]\n",
      "\n"
     ]
    }
   ],
   "source": [
    "def run_layer(weights, inputs):\n",
    "    outputs = torch.mm(weights , inputs)\n",
    "    outputs = torch.tanh(outputs)\n",
    "    return outputs\n",
    "\n",
    "W = Variable(torch.randn(2,4), requires_grad=True) # A 2x4 weight matrix\n",
    "x = Variable(Tensor([[1],[2],[3],[4]])) # A column vector of length four\n",
    "\n",
    "y = run_layer(W, x)\n",
    "print(y)"
   ]
  },
  {
   "cell_type": "markdown",
   "metadata": {},
   "source": [
    "### The loss function\n",
    "\n",
    "Training this neural network layer would simply mean taking the derivative of a loss function at its output with respect to its trainable weights (the matrix `W` above)."
   ]
  },
  {
   "cell_type": "code",
   "execution_count": 10,
   "metadata": {},
   "outputs": [
    {
     "name": "stdout",
     "output_type": "stream",
     "text": [
      "Variable containing:\n",
      " 3.5573\n",
      "[torch.FloatTensor of size 1]\n",
      "\n",
      "Variable containing:\n",
      "-0.2821 -0.5643 -0.8464 -1.1285\n",
      "-0.0001 -0.0003 -0.0004 -0.0005\n",
      "[torch.FloatTensor of size 2x4]\n",
      "\n"
     ]
    }
   ],
   "source": [
    "def loss(outputs, targets):\n",
    "    return torch.norm(outputs - targets)\n",
    "\n",
    "W = Variable(torch.randn(2,4), requires_grad=True) # A 2x4 weight matrix\n",
    "x = Variable(Tensor([[1],[2],[3],[4]])) # A column vector of length four\n",
    "\n",
    "loss = loss(run_layer(W, x), Variable(Tensor([1,1,1])))\n",
    "print(loss)\n",
    "\n",
    "loss.backward()\n",
    "W_grad = W.grad\n",
    "print(W_grad)"
   ]
  },
  {
   "cell_type": "markdown",
   "metadata": {},
   "source": [
    "### Optimization\n",
    "\n",
    "We would then iteratively update the weights in a gradient-based update rule."
   ]
  },
  {
   "cell_type": "code",
   "execution_count": 11,
   "metadata": {},
   "outputs": [
    {
     "name": "stdout",
     "output_type": "stream",
     "text": [
      "Variable containing:\n",
      "-0.5265  0.0008 -0.7279  0.8278\n",
      " 0.0988 -0.2791 -0.9714 -0.5097\n",
      "[torch.FloatTensor of size 2x4]\n",
      "\n"
     ]
    }
   ],
   "source": [
    "learning_rate = 0.001\n",
    "W = W - learning_rate * W_grad\n",
    "print(W)"
   ]
  },
  {
   "cell_type": "code",
   "execution_count": 12,
   "metadata": {},
   "outputs": [
    {
     "data": {
      "text/plain": [
       "\n",
       " 0.7311\n",
       "[torch.FloatTensor of size 1]"
      ]
     },
     "execution_count": 12,
     "metadata": {},
     "output_type": "execute_result"
    }
   ],
   "source": [
    "torch.sigmoid(Tensor([1]))"
   ]
  },
  {
   "cell_type": "markdown",
   "metadata": {},
   "source": [
    "By taking the gradient of a neural network with respect to its trainable parameters (weights), we can optimize it with gradient descent."
   ]
  },
  {
   "cell_type": "markdown",
   "metadata": {},
   "source": [
    "## Using torch.nn modules"
   ]
  },
  {
   "cell_type": "markdown",
   "metadata": {},
   "source": [
    "In practice, unless you are implementing new neural network architectures, you would use the existing neural network building blocks provided by the `torch.nn` module, which internally work similar to the basic example we covered above.\n",
    "\n",
    "We will now define a convolutional neural network for image recognition on the MNIST dataset and train and test it, using the regular PyTorch workflow. The MNIST dataset is a collection of 60,000 images of handwritten digits labeled as belonging to one of the ten digit categories.\n",
    "\n",
    "First we load the MNIST dataset. We also apply preprocessing for normalizing data.\n",
    "\n",
    "We divide the data into training and test sets."
   ]
  },
  {
   "cell_type": "code",
   "execution_count": 13,
   "metadata": {
    "collapsed": true
   },
   "outputs": [],
   "source": [
    "from torchvision import datasets, transforms\n",
    "from torch.utils.data import DataLoader\n",
    "\n",
    "train_loader = DataLoader(\n",
    "    datasets.MNIST('./data', train=True, download=True,\n",
    "                   transform=transforms.Compose([\n",
    "                       transforms.ToTensor(),\n",
    "                       transforms.Normalize((0.1307,), (0.3081,))\n",
    "                   ])),\n",
    "    batch_size=64, shuffle=True)\n",
    "test_loader = DataLoader(\n",
    "    datasets.MNIST('./data', train=False, transform=transforms.Compose([\n",
    "                       transforms.ToTensor(),\n",
    "                       transforms.Normalize((0.1307,), (0.3081,))\n",
    "                   ])),\n",
    "    batch_size=64, shuffle=True)"
   ]
  },
  {
   "cell_type": "markdown",
   "metadata": {},
   "source": [
    "We define a function that will help us visualize data and labels."
   ]
  },
  {
   "cell_type": "code",
   "execution_count": 14,
   "metadata": {
    "collapsed": true
   },
   "outputs": [],
   "source": [
    "import matplotlib.pyplot as plt\n",
    "import numpy as np\n",
    "%matplotlib inline\n",
    "\n",
    "def imshow(img):\n",
    "    npimg = img.numpy().astype(float)\n",
    "    plt.imshow(npimg)"
   ]
  },
  {
   "cell_type": "markdown",
   "metadata": {},
   "source": [
    "Let's inspect a few images and corresponding ground truth labels from the training set."
   ]
  },
  {
   "cell_type": "code",
   "execution_count": 15,
   "metadata": {},
   "outputs": [
    {
     "name": "stdout",
     "output_type": "stream",
     "text": [
      "Ground truth label:  3\n"
     ]
    },
    {
     "data": {
      "image/png": "[encoded data removed]",
      "text/plain": [
       "<matplotlib.figure.Figure at 0x7fcaab37e978>"
      ]
     },
     "metadata": {},
     "output_type": "display_data"
    }
   ],
   "source": [
    "index = 12\n",
    "imshow(train_loader.dataset.train_data[index])\n",
    "print('Ground truth label: ', train_loader.dataset.train_labels[index])"
   ]
  },
  {
   "cell_type": "code",
   "execution_count": 16,
   "metadata": {},
   "outputs": [
    {
     "name": "stdout",
     "output_type": "stream",
     "text": [
      "Ground truth label:  4\n"
     ]
    },
    {
     "data": {
      "image/png": "[encoded data removed]",
      "text/plain": [
       "<matplotlib.figure.Figure at 0x7fcaab090b38>"
      ]
     },
     "metadata": {},
     "output_type": "display_data"
    }
   ],
   "source": [
    "index = 150\n",
    "imshow(train_loader.dataset.train_data[index])\n",
    "print('Ground truth label: ', train_loader.dataset.train_labels[index])"
   ]
  },
  {
   "cell_type": "markdown",
   "metadata": {},
   "source": [
    "Next we define our neural network composed of two convolutional layers followed by max-pooling layers, a dropout layer, and two fully-connected (linear) layers.\n",
    "\n",
    "Note that we only need to \n",
    "- create the layer modules (in the `__init__` constructor) and \n",
    "- define the function for the forward run of the network (in the `forward` method)"
   ]
  },
  {
   "cell_type": "code",
   "execution_count": 17,
   "metadata": {
    "collapsed": true
   },
   "outputs": [],
   "source": [
    "import torch.nn as nn\n",
    "\n",
    "class Net(nn.Module):\n",
    "    def __init__(self): # The definition of neural network layers\n",
    "        super(Net, self).__init__()\n",
    "        self.conv1 = nn.Conv2d(1, 10, kernel_size=5)\n",
    "        self.conv2 = nn.Conv2d(10, 20, kernel_size=5)\n",
    "        self.conv2_drop = nn.Dropout2d()\n",
    "        self.fc1 = nn.Linear(320, 50)\n",
    "        self.fc2 = nn.Linear(50, 10)\n",
    "\n",
    "    def forward(self, x): # The function for forward evaluation\n",
    "        x = F.relu(F.max_pool2d(self.conv1(x), 2))\n",
    "        x = F.relu(F.max_pool2d(self.conv2_drop(self.conv2(x)), 2))\n",
    "        x = x.view(-1, 320)\n",
    "        x = F.relu(self.fc1(x))\n",
    "        x = F.dropout(x, training=self.training)\n",
    "        x = self.fc2(x)\n",
    "        return F.log_softmax(x)\n",
    "    \n",
    "model = Net()"
   ]
  },
  {
   "cell_type": "markdown",
   "metadata": {},
   "source": [
    "We use the stochastic gradient descent (SGD) optimization routine provided by the `torch.optim` module. We use a learning rate of `0.0001` and a momentum of `0.9`."
   ]
  },
  {
   "cell_type": "code",
   "execution_count": 18,
   "metadata": {
    "collapsed": true
   },
   "outputs": [],
   "source": [
    "from torch import optim\n",
    "\n",
    "optimizer = optim.SGD(model.parameters(), lr=0.0001, momentum=0.9)"
   ]
  },
  {
   "cell_type": "code",
   "execution_count": 19,
   "metadata": {
    "collapsed": true
   },
   "outputs": [],
   "source": [
    "import torch.nn.functional as F\n",
    "\n",
    "def train(epoch):\n",
    "    model.train()\n",
    "    for batch_idx, (data, target) in enumerate(train_loader):\n",
    "        data, target = Variable(data), Variable(target)\n",
    "        optimizer.zero_grad()\n",
    "        output = model(data)\n",
    "        loss = F.nll_loss(output, target)\n",
    "        loss.backward()\n",
    "        optimizer.step()\n",
    "        if batch_idx % 100 == 0:\n",
    "            print('Train Epoch: {} [{}/{} ({:.0f}%)]\\tLoss: {:.6f}'.format(\n",
    "                epoch, batch_idx * len(data), len(train_loader.dataset),\n",
    "                100. * batch_idx / len(train_loader), loss.data[0]))\n",
    "            \n",
    "def test():\n",
    "    model.eval()\n",
    "    test_loss = 0\n",
    "    correct = 0\n",
    "    for data, target in test_loader:\n",
    "        data, target = Variable(data, volatile=True), Variable(target)\n",
    "        output = model(data)\n",
    "        test_loss += F.nll_loss(output, target, size_average=False).data[0] # sum up batch loss\n",
    "        pred = output.data.max(1, keepdim=True)[1] # get the index of the max log-probability\n",
    "        correct += pred.eq(target.data.view_as(pred)).cpu().sum()\n",
    "\n",
    "    test_loss /= len(test_loader.dataset)\n",
    "    print('\\nTest set: Average loss: {:.4f}, Accuracy: {}/{} ({:.0f}%)\\n'.format(\n",
    "        test_loss, correct, len(test_loader.dataset),\n",
    "        100. * correct / len(test_loader.dataset)))"
   ]
  },
  {
   "cell_type": "markdown",
   "metadata": {},
   "source": [
    "We train the neural network for four epochs. \n",
    "\n",
    "As training progresses, you will see that the classification accuracy in the test set will keep rising. At the end of four epochs, we will have an accuracy of around 85% in the test set."
   ]
  },
  {
   "cell_type": "code",
   "execution_count": 20,
   "metadata": {},
   "outputs": [
    {
     "name": "stdout",
     "output_type": "stream",
     "text": [
      "Train Epoch: 1 [0/60000 (0%)]\tLoss: 2.304117\n",
      "Train Epoch: 1 [6400/60000 (11%)]\tLoss: 2.337224\n",
      "Train Epoch: 1 [12800/60000 (21%)]\tLoss: 2.316170\n",
      "Train Epoch: 1 [19200/60000 (32%)]\tLoss: 2.293122\n",
      "Train Epoch: 1 [25600/60000 (43%)]\tLoss: 2.315565\n",
      "Train Epoch: 1 [32000/60000 (53%)]\tLoss: 2.285456\n",
      "Train Epoch: 1 [38400/60000 (64%)]\tLoss: 2.291956\n",
      "Train Epoch: 1 [44800/60000 (75%)]\tLoss: 2.239765\n",
      "Train Epoch: 1 [51200/60000 (85%)]\tLoss: 2.266539\n",
      "Train Epoch: 1 [57600/60000 (96%)]\tLoss: 2.248861\n",
      "\n",
      "Test set: Average loss: 2.2314, Accuracy: 4130/10000 (41%)\n",
      "\n",
      "Train Epoch: 2 [0/60000 (0%)]\tLoss: 2.253264\n",
      "Train Epoch: 2 [6400/60000 (11%)]\tLoss: 2.227257\n",
      "Train Epoch: 2 [12800/60000 (21%)]\tLoss: 2.259247\n",
      "Train Epoch: 2 [19200/60000 (32%)]\tLoss: 2.231233\n",
      "Train Epoch: 2 [25600/60000 (43%)]\tLoss: 2.170665\n",
      "Train Epoch: 2 [32000/60000 (53%)]\tLoss: 2.232805\n",
      "Train Epoch: 2 [38400/60000 (64%)]\tLoss: 2.160343\n",
      "Train Epoch: 2 [44800/60000 (75%)]\tLoss: 2.157897\n",
      "Train Epoch: 2 [51200/60000 (85%)]\tLoss: 2.168804\n",
      "Train Epoch: 2 [57600/60000 (96%)]\tLoss: 2.082378\n",
      "\n",
      "Test set: Average loss: 2.0197, Accuracy: 5947/10000 (59%)\n",
      "\n",
      "Train Epoch: 3 [0/60000 (0%)]\tLoss: 2.042473\n",
      "Train Epoch: 3 [6400/60000 (11%)]\tLoss: 2.104316\n",
      "Train Epoch: 3 [12800/60000 (21%)]\tLoss: 2.099521\n",
      "Train Epoch: 3 [19200/60000 (32%)]\tLoss: 1.946665\n",
      "Train Epoch: 3 [25600/60000 (43%)]\tLoss: 1.946715\n",
      "Train Epoch: 3 [32000/60000 (53%)]\tLoss: 1.826851\n",
      "Train Epoch: 3 [38400/60000 (64%)]\tLoss: 1.874389\n",
      "Train Epoch: 3 [44800/60000 (75%)]\tLoss: 1.832521\n",
      "Train Epoch: 3 [51200/60000 (85%)]\tLoss: 1.914814\n",
      "Train Epoch: 3 [57600/60000 (96%)]\tLoss: 1.796982\n",
      "\n",
      "Test set: Average loss: 1.4319, Accuracy: 7157/10000 (72%)\n",
      "\n",
      "Train Epoch: 4 [0/60000 (0%)]\tLoss: 1.576520\n",
      "Train Epoch: 4 [6400/60000 (11%)]\tLoss: 1.522017\n",
      "Train Epoch: 4 [12800/60000 (21%)]\tLoss: 1.419768\n",
      "Train Epoch: 4 [19200/60000 (32%)]\tLoss: 1.491702\n",
      "Train Epoch: 4 [25600/60000 (43%)]\tLoss: 1.582483\n",
      "Train Epoch: 4 [32000/60000 (53%)]\tLoss: 1.243263\n",
      "Train Epoch: 4 [38400/60000 (64%)]\tLoss: 1.410439\n",
      "Train Epoch: 4 [44800/60000 (75%)]\tLoss: 1.445273\n",
      "Train Epoch: 4 [51200/60000 (85%)]\tLoss: 1.299558\n",
      "Train Epoch: 4 [57600/60000 (96%)]\tLoss: 1.317284\n",
      "\n",
      "Test set: Average loss: 0.8338, Accuracy: 8115/10000 (81%)\n",
      "\n"
     ]
    }
   ],
   "source": [
    "for epoch in range(1, 5):\n",
    "    train(epoch)\n",
    "    test()"
   ]
  },
  {
   "cell_type": "markdown",
   "metadata": {},
   "source": [
    "Let's test an image from the test set."
   ]
  },
  {
   "cell_type": "code",
   "execution_count": 62,
   "metadata": {},
   "outputs": [
    {
     "name": "stdout",
     "output_type": "stream",
     "text": [
      "Variable containing:\n",
      "-0.2174 -6.0279 -2.9775 -3.1019 -5.4847 -4.2845 -3.2991 -3.7304 -4.4910 -4.9565\n",
      "[torch.FloatTensor of size 1x10]\n",
      "\n"
     ]
    },
    {
     "data": {
      "image/png": "[encoded data removed]",
      "text/plain": [
       "<matplotlib.figure.Figure at 0x7fcaaad0f9b0>"
      ]
     },
     "metadata": {},
     "output_type": "display_data"
    }
   ],
   "source": [
    "import itertools\n",
    "index = 3\n",
    "a = list(itertools.islice(test_loader, index))\n",
    "test_image = a[0][0][0]\n",
    "test_label = a[0][1][0]\n",
    "\n",
    "test_output = model(Variable(test_image.unsqueeze(0)))\n",
    "values, indices = torch.max(test_output, 0)\n",
    "imshow(test_image[0])\n",
    "print(values)"
   ]
  },
  {
   "cell_type": "code",
   "execution_count": null,
   "metadata": {
    "collapsed": true
   },
   "outputs": [],
   "source": []
  }
 ],
 "metadata": {
  "kernelspec": {
   "display_name": "Python 3",
   "language": "python",
   "name": "python3"
  },
  "language_info": {
   "codemirror_mode": {
    "name": "ipython",
    "version": 3
   },
   "file_extension": ".py",
   "mimetype": "text/x-python",
   "name": "python",
   "nbconvert_exporter": "python",
   "pygments_lexer": "ipython3",
   "version": "3.5.2"
  }
 },
 "nbformat": 4,
 "nbformat_minor": 2
}
